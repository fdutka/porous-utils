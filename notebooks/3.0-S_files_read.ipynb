{
 "cells": [
  {
   "cell_type": "code",
   "execution_count": 60,
   "metadata": {
    "collapsed": true
   },
   "outputs": [],
   "source": [
    "import numpy as np\n",
    "from scipy import ndimage\n",
    "import glob, os\n",
    "import pandas as pd"
   ]
  },
  {
   "cell_type": "code",
   "execution_count": 61,
   "metadata": {
    "collapsed": true
   },
   "outputs": [],
   "source": [
    "def corners(image, h_min, w_min):\n",
    "\n",
    "    y_max = len(image)\n",
    "    x_max = len(image[0])\n",
    "\n",
    "    y0, x0 = 0, 0 \n",
    "    s = image[y0:y0+h_min, x0:x0+w_min].sum() \n",
    "    while s>0 and x0<x_max//2:\n",
    "        x0 =x0+1\n",
    "        y0 = 0\n",
    "        while s>0 and y0<y_max//2:\n",
    "            y0 = y0+1\n",
    "            s = image[y0:y0+h_min, x0:x0+w_min].sum() \n",
    "            \n",
    "    y1 = y_max-1 \n",
    "    x1 = x_max-1\n",
    "    s = image[y1-h_min:y1, x1-w_min:x1].sum() \n",
    "    while s>0 and x1>x_max//2:\n",
    "        x1 =x1-1\n",
    "        y1 = y_max\n",
    "        while s>0 and y1>y_max//2:\n",
    "            y1 = y1-1\n",
    "            s = image[y1-h_min:y1, x1-w_min:x1].sum() \n",
    "            \n",
    "    return y0, y1, x0, x1"
   ]
  },
  {
   "cell_type": "code",
   "execution_count": 62,
   "metadata": {
    "collapsed": true
   },
   "outputs": [],
   "source": [
    "folder_sim = \"/home/fdutka/Dropbox/ProjektyNaukowe/Dissolution/OpenFoam/Disk_2018_1\"\n",
    "#folder_sim = os.getcwd()\n",
    "files_list = glob.glob(os.path.join(folder_sim, \"S*.png\"))\n",
    "files_list = np.sort(np.array(files_list))"
   ]
  },
  {
   "cell_type": "code",
   "execution_count": 63,
   "metadata": {
    "collapsed": true
   },
   "outputs": [],
   "source": [
    "tsh  = 120\n",
    "\n",
    "f1 = files_list[0]\n",
    "image = ndimage.imread(f1, flatten = True)\n",
    "\n",
    "image2 = (image<tsh).astype(int)\n",
    "y0, y1, x0, x1 = corners(image2, 200, 200)\n",
    "\n",
    "areas = []\n",
    "for f1 in files_list:\n",
    "    image = ndimage.imread(f1, flatten = True)\n",
    "    image2 = (image<tsh).astype(int)\n",
    "    image2[:y0] = 0\n",
    "    image2[y1:] = 0\n",
    "    image2[:,:x0]=0\n",
    "    image2[:,x1:]=0\n",
    "\n",
    "    areas.append([f1.split(\"/\")[-1], image2.sum()])\n"
   ]
  },
  {
   "cell_type": "code",
   "execution_count": 65,
   "metadata": {
    "collapsed": true
   },
   "outputs": [],
   "source": [
    "areas = np.array(areas)"
   ]
  },
  {
   "cell_type": "code",
   "execution_count": 81,
   "metadata": {},
   "outputs": [],
   "source": [
    "area0 = 100*np.pi\n",
    "a1 = areas[:,1].astype(int)\n",
    "a1 = area0*a1/a1[0]\n",
    "\n",
    "df1 = pd.DataFrame(np.vstack((areas[:,1],a1)).T, index = areas[:,0], columns = [\"area_px2\",\"area_mm2\"])\n",
    "df1.to_csv(os.path.join(folder_sim, \"S_areas.csv\"))"
   ]
  },
  {
   "cell_type": "code",
   "execution_count": 66,
   "metadata": {},
   "outputs": [],
   "source": []
  },
  {
   "cell_type": "code",
   "execution_count": null,
   "metadata": {
    "collapsed": true
   },
   "outputs": [],
   "source": []
  }
 ],
 "metadata": {
  "kernelspec": {
   "display_name": "Python 3",
   "language": "python",
   "name": "python3"
  },
  "language_info": {
   "codemirror_mode": {
    "name": "ipython",
    "version": 3
   },
   "file_extension": ".py",
   "mimetype": "text/x-python",
   "name": "python",
   "nbconvert_exporter": "python",
   "pygments_lexer": "ipython3",
   "version": "3.6.3"
  }
 },
 "nbformat": 4,
 "nbformat_minor": 2
}
